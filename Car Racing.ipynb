{
 "cells": [
  {
   "cell_type": "markdown",
   "id": "5409de0d",
   "metadata": {},
   "source": [
    "### IMPORT DEPENDENCIES"
   ]
  },
  {
   "cell_type": "code",
   "execution_count": null,
   "id": "359fc1c6",
   "metadata": {},
   "outputs": [],
   "source": [
    "!pip install 'gymnasium[box2d]'"
   ]
  },
  {
   "cell_type": "code",
   "execution_count": null,
   "id": "f4c868b0",
   "metadata": {},
   "outputs": [],
   "source": [
    "#Install dependencies\n",
    "import gym\n",
    "from stable_baselines3 import PPO\n",
    "from stable_baselines3.common.vec_env import DummyVecEnv\n",
    "from stable_baselines3.common.evaluation import evaluate_policy\n",
    "import os\n",
    "import torch"
   ]
  },
  {
   "cell_type": "code",
   "execution_count": null,
   "id": "9175be64",
   "metadata": {},
   "outputs": [],
   "source": [
    "import stable_baselines3\n",
    "print(stable_baselines3.__version__)"
   ]
  },
  {
   "cell_type": "markdown",
   "id": "e030ec1b",
   "metadata": {},
   "source": [
    "### TESTING ENVIRONMENT"
   ]
  },
  {
   "cell_type": "code",
   "execution_count": null,
   "id": "02419ed8",
   "metadata": {},
   "outputs": [],
   "source": [
    "environment_name = 'CarRacing-v2'\n",
    "env = gym.make('CarRacing-v2', render_mode = 'human')"
   ]
  },
  {
   "cell_type": "code",
   "execution_count": null,
   "id": "b5879b87",
   "metadata": {},
   "outputs": [],
   "source": [
    "env.reset()"
   ]
  },
  {
   "cell_type": "code",
   "execution_count": null,
   "id": "7568358b",
   "metadata": {},
   "outputs": [],
   "source": [
    "env.close()"
   ]
  },
  {
   "cell_type": "code",
   "execution_count": null,
   "id": "52363478",
   "metadata": {},
   "outputs": [],
   "source": [
    "env.action_space\n",
    "# [0: steering, -1: full left, +1: full right] [0, 0, 0]\n",
    "# [1: gas]\n",
    "# [2: breaking]"
   ]
  },
  {
   "cell_type": "code",
   "execution_count": null,
   "id": "b00698a0",
   "metadata": {},
   "outputs": [],
   "source": [
    "env.observation_space"
   ]
  },
  {
   "cell_type": "code",
   "execution_count": null,
   "id": "b82d0fac",
   "metadata": {},
   "outputs": [],
   "source": [
    "#Sample run of environment\n",
    "episodes = 5\n",
    "for episode in range(1, episodes+1):\n",
    "    obs = env.reset()\n",
    "    done = False\n",
    "    score = 0 \n",
    "    \n",
    "    while not done:\n",
    "        env.render()\n",
    "        action = env.action_space.sample()\n",
    "        obs, reward, done, truncated, info = env.step(action)\n",
    "        score+=reward\n",
    "    print('Episode:{} Score:{}'.format(episode, score))\n",
    "env.close()"
   ]
  },
  {
   "cell_type": "markdown",
   "id": "46b693f6",
   "metadata": {},
   "source": [
    "### TRAIN MODEL"
   ]
  },
  {
   "cell_type": "code",
   "execution_count": null,
   "id": "9b98ac5f",
   "metadata": {},
   "outputs": [],
   "source": [
    "# Download dependency based on requirement\n",
    "pip install 'shimmy>=0.2.1'"
   ]
  },
  {
   "cell_type": "code",
   "execution_count": null,
   "id": "87e93b7b",
   "metadata": {
    "scrolled": true
   },
   "outputs": [],
   "source": [
    "env = gym.make(environment_name, render_mode = 'human')\n",
    "env = DummyVecEnv([lambda: env])"
   ]
  },
  {
   "cell_type": "code",
   "execution_count": null,
   "id": "3aa57c56",
   "metadata": {},
   "outputs": [],
   "source": [
    "log_path = os.path.join('Training', 'Logs')\n",
    "model = PPO('CnnPolicy', env, verbose = 1, tensorboard_log = log_path)"
   ]
  },
  {
   "cell_type": "code",
   "execution_count": null,
   "id": "ea2c821c",
   "metadata": {},
   "outputs": [],
   "source": [
    "#Training the model to 120000 timesteps\n",
    "model.learn(total_timesteps = 120000)"
   ]
  },
  {
   "cell_type": "markdown",
   "id": "ac15e2f0",
   "metadata": {},
   "source": [
    "### SAVE MODEL"
   ]
  },
  {
   "cell_type": "code",
   "execution_count": null,
   "id": "9adbf4d4",
   "metadata": {},
   "outputs": [],
   "source": [
    "#Creating model path\n",
    "ppo_path = os.path.join('Training', 'PPO_Driving')"
   ]
  },
  {
   "cell_type": "code",
   "execution_count": null,
   "id": "be41ae8b",
   "metadata": {},
   "outputs": [],
   "source": [
    "model.save(ppo_path)"
   ]
  },
  {
   "cell_type": "code",
   "execution_count": null,
   "id": "79f35694",
   "metadata": {},
   "outputs": [],
   "source": [
    "del model"
   ]
  },
  {
   "cell_type": "code",
   "execution_count": null,
   "id": "aed5320f",
   "metadata": {},
   "outputs": [],
   "source": [
    "model = PPO.load(\"/Users/vinayakcm/Documents/Machine Learning Projects/Reinforcement Learning/Projects/Car Racing/Training/PPO_Driving.zip\", env)"
   ]
  },
  {
   "cell_type": "markdown",
   "id": "f708ed6c",
   "metadata": {},
   "source": [
    "### EVALUATE AND TEST"
   ]
  },
  {
   "cell_type": "code",
   "execution_count": null,
   "id": "b071d275",
   "metadata": {},
   "outputs": [],
   "source": [
    "evaluate_policy(model, env, n_eval_episodes = 10, render = True)"
   ]
  },
  {
   "cell_type": "code",
   "execution_count": null,
   "id": "aff457df",
   "metadata": {},
   "outputs": [],
   "source": [
    "#Testing the model with scores as output --yet to be ran\n",
    "episodes = 5\n",
    "for episode in range(1, episodes+1):\n",
    "    obs = env.reset()\n",
    "    done = False\n",
    "    score = 0 \n",
    "    \n",
    "    while not done:\n",
    "        env.render()\n",
    "        action = env.model.predict(obs)\n",
    "        obs, reward, done, truncated, info = env.step(action)\n",
    "        score+=reward\n",
    "    print('Episode:{} Score:{}'.format(episode, score))\n",
    "env.close()"
   ]
  }
 ],
 "metadata": {
  "kernelspec": {
   "display_name": "Python 3 (ipykernel)",
   "language": "python",
   "name": "python3"
  },
  "language_info": {
   "codemirror_mode": {
    "name": "ipython",
    "version": 3
   },
   "file_extension": ".py",
   "mimetype": "text/x-python",
   "name": "python",
   "nbconvert_exporter": "python",
   "pygments_lexer": "ipython3",
   "version": "3.11.3"
  }
 },
 "nbformat": 4,
 "nbformat_minor": 5
}
